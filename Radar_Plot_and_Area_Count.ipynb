{
 "cells": [
  {
   "cell_type": "markdown",
   "metadata": {},
   "source": [
    "# 雷達圖面積計算及視覺化 - 用Jupyter notebook \n",
    "### Radar Plot and Area Count - Jupyter notebook "
   ]
  },
  {
   "cell_type": "markdown",
   "metadata": {},
   "source": [
    "## Area Count\n",
    "- 雷達圖常用來表達能力值，能力值總和高低可用雷達圖範圍面積計算，但網路上計算雷達圖面積多為座標(x,y)計算，不適用僅知各維度刻度的雷達圖，故特別分享本實作。\n",
    "- 計算雷達圖面積，雷達圖以多個等角三角形構成，透過雷達圖已知的各維度刻度即可計算雷達圖面積。\n",
    "- 三角形面積計算，如已知兩邊長及其夾角，可用三角函數1/2ABsinC求出，AB為兩邊邊長、C為AB之夾角，角度C為360/邊長求得，惟math.sin()所填入的值並非角度，這個坑本實作已解決如下。"
   ]
  },
  {
   "cell_type": "code",
   "execution_count": 9,
   "metadata": {},
   "outputs": [
    {
     "name": "stdout",
     "output_type": "stream",
     "text": [
      "[25, 100, 48.47, 16.67, 16.67] Area count = 4208.25094615792\n",
      "[50, 48.78, 0, 100, 58.35] Area count = 5321.874501058605\n",
      "[100, 50, 30.57, 0, 0.84] Area count = 3144.4306070008515\n"
     ]
    },
    {
     "data": {
      "text/plain": [
       "3144.4306070008515"
      ]
     },
     "execution_count": 9,
     "metadata": {},
     "output_type": "execute_result"
    }
   ],
   "source": [
    "import math\n",
    "\n",
    "def area_count(file_list):\n",
    "    _m = file_list\n",
    "    area = 0\n",
    "    if len(_m) < 3:\n",
    "        raise (\"少於三維度，不成面積\")\n",
    "    else:\n",
    "        for i in range(len(_m)):\n",
    "            if i < len(_m)-1:\n",
    "                area += _m[i]*_m[i+1]\n",
    "            else:\n",
    "                area += _m[len(_m)-1]*_m[0]\n",
    "        area = area*math.sin(math.radians(360/len(_m)))/2\n",
    "    print ('{} Area count = {}'.format(_m , area))\n",
    "    return area\n",
    "\n",
    "\n",
    "M1 = [25,100,48.47,16.67,16.67]\n",
    "M2 = [50,48.78,0,100,58.35]\n",
    "M3 = [100,50,30.57,0,0.84]\n",
    "\n",
    "area_count(M1)\n",
    "area_count(M2)\n",
    "area_count(M3)"
   ]
  },
  {
   "cell_type": "markdown",
   "metadata": {},
   "source": [
    "## Radar Plot\n",
    "\n",
    "- Python可以採用Jupyter Notebook繪製雷達圖進行資料視覺化。"
   ]
  },
  {
   "cell_type": "code",
   "execution_count": 8,
   "metadata": {},
   "outputs": [
    {
     "data": {
      "text/html": [
       "\n",
       "        <iframe\n",
       "            width=\"800\"\n",
       "            height=\"420\"\n",
       "            src=\"chart.html\"\n",
       "            frameborder=\"0\"\n",
       "            allowfullscreen\n",
       "        ></iframe>\n",
       "        "
      ],
      "text/plain": [
       "<IPython.lib.display.IFrame at 0x104b357b8>"
      ]
     },
     "execution_count": 8,
     "metadata": {},
     "output_type": "execute_result"
    }
   ],
   "source": [
    "from iplotter import ChartJSPlotter\n",
    "\n",
    "plotter = ChartJSPlotter()\n",
    "\n",
    "data = {\n",
    "    \"labels\": [\"Label-1\", \"Label-2\", \"Label-3\", \"Label-4\",\"Label-5\"],\n",
    "    \"datasets\": [\n",
    "        {\n",
    "            \"label\": \"File_1\",\n",
    "            \"borderColor\": \"rgba(0,255,255,1)\",\n",
    "            \"data\": [25,100,48.47,16.67,16.67]\n",
    "            \n",
    "        }, {\n",
    "            \"label\": \"File_2\",\n",
    "            \"borderColor\": \"rgba(0,0,255,1)\",\n",
    "            \"data\": [50,48.78,0,100,58.35]\n",
    "        },\n",
    "        {\n",
    "            \"label\": \"File_3\",\n",
    "            \"borderColor\": \"rgba(255,99,132,1)\",\n",
    "            \"data\": [100,50,30.57,0,0.84]\n",
    "        }\n",
    "    ]\n",
    "}\n",
    "\n",
    "plotter.plot_and_save(data, 'radar', options=None)"
   ]
  }
 ],
 "metadata": {
  "kernelspec": {
   "display_name": "Python 3",
   "language": "python",
   "name": "python3"
  },
  "language_info": {
   "codemirror_mode": {
    "name": "ipython",
    "version": 3
   },
   "file_extension": ".py",
   "mimetype": "text/x-python",
   "name": "python",
   "nbconvert_exporter": "python",
   "pygments_lexer": "ipython3",
   "version": "3.5.0"
  }
 },
 "nbformat": 4,
 "nbformat_minor": 2
}
